{
  "nbformat": 4,
  "nbformat_minor": 0,
  "metadata": {
    "colab": {
      "provenance": []
    },
    "kernelspec": {
      "name": "python3",
      "display_name": "Python 3"
    },
    "language_info": {
      "name": "python"
    }
  },
  "cells": [
    {
      "cell_type": "code",
      "execution_count": 1,
      "metadata": {
        "id": "VTnAMqF5hrIJ"
      },
      "outputs": [],
      "source": [
        "with open('data.txt', 'r', encoding='utf-8') as f:\n",
        "    text = f.read()"
      ]
    },
    {
      "cell_type": "code",
      "source": [
        "print(\"length of dataset in characters: \", len(text))"
      ],
      "metadata": {
        "colab": {
          "base_uri": "https://localhost:8080/"
        },
        "id": "cmow3n6ch9hi",
        "outputId": "5aeeb26d-6a12-4164-b33d-4751c4596474"
      },
      "execution_count": 2,
      "outputs": [
        {
          "output_type": "stream",
          "name": "stdout",
          "text": [
            "length of dataset in characters:  421\n"
          ]
        }
      ]
    },
    {
      "cell_type": "code",
      "source": [
        "print(text[:1000])"
      ],
      "metadata": {
        "colab": {
          "base_uri": "https://localhost:8080/"
        },
        "id": "07xdnUpph_yL",
        "outputId": "0f445a79-88a8-4f0b-aae9-e206977db4f2"
      },
      "execution_count": 3,
      "outputs": [
        {
          "output_type": "stream",
          "name": "stdout",
          "text": [
            "आत्मा सर्वत्र व्याप्यते। मनः चित्तसंग्रहाय कार्यं करोति। जीवनं दुःखसुखयोः मिश्रितं भवति। धर्मः आत्मनः प्रगतिपथः। अर्थस्य साधनं आवश्यकं, किंतु अहंकारं त्यजेत्। कामे च संयमः धर्मेण सह योजनीयः। मोक्षाय साधना अनिवार्या। सत्यं वद, अहिंसा चर, क्षमा धर्तु। मित्राणां संगः सुखदायकः, शत्रूणां संगः दुखदायकः। गुरुशिष्ययोः संबंधः ज्ञानस्य आधारः। \n",
            "विद्या विज्ञानयोः संयोजनं मनसः शान्त्यै उपयुक्तम्। संगीतं कला च हृदयशान्तये उपयोगी।\n",
            "\n",
            "\n"
          ]
        }
      ]
    },
    {
      "cell_type": "code",
      "source": [
        "chars = sorted(list(set(text)))\n",
        "vocab_size = len(chars)\n",
        "print(''.join(chars))\n",
        "print(vocab_size)"
      ],
      "metadata": {
        "colab": {
          "base_uri": "https://localhost:8080/"
        },
        "id": "OcHcOkfGiBxC",
        "outputId": "b3b3617a-8881-4714-f13d-61ad030d7196"
      },
      "execution_count": 4,
      "outputs": [
        {
          "output_type": "stream",
          "name": "stdout",
          "text": [
            "\n",
            " ,ंःअआउकखगचजञणतथदधनपबभमयरलवशषसहािीुूृेैो्।\n",
            "43\n"
          ]
        }
      ]
    },
    {
      "cell_type": "code",
      "source": [
        "stoi = { ch:i for i,ch in enumerate(chars) }\n",
        "itos = { i:ch for i,ch in enumerate(chars) }\n",
        "encode = lambda s: [stoi[c] for c in s]\n",
        "decode = lambda l: ''.join([itos[i] for i in l])\n",
        "print(encode(\"विद्या विज्ञानयोः\"))\n",
        "print(decode(encode(\"विद्या विज्ञानयोः\")))"
      ],
      "metadata": {
        "colab": {
          "base_uri": "https://localhost:8080/"
        },
        "id": "N-Bu-TcriNm2",
        "outputId": "46606b3c-aa4b-4853-c6ae-5b1db4672801"
      },
      "execution_count": 8,
      "outputs": [
        {
          "output_type": "stream",
          "name": "stdout",
          "text": [
            "[27, 33, 17, 41, 24, 32, 1, 27, 33, 12, 41, 13, 32, 19, 24, 40, 4]\n",
            "विद्या विज्ञानयोः\n"
          ]
        }
      ]
    },
    {
      "cell_type": "code",
      "source": [
        "import torch\n",
        "data = torch.tensor(encode(text), dtype=torch.long)\n",
        "print(data.shape, data.dtype)\n",
        "print(data[:1000])"
      ],
      "metadata": {
        "colab": {
          "base_uri": "https://localhost:8080/"
        },
        "id": "5ijTSSIzik6H",
        "outputId": "d429aec0-d78b-4063-e801-e53cd10f4628"
      },
      "execution_count": 9,
      "outputs": [
        {
          "output_type": "stream",
          "name": "stdout",
          "text": [
            "torch.Size([421]) torch.int64\n",
            "tensor([ 6, 15, 41, 23, 32,  1, 30, 25, 41, 27, 15, 41, 25,  1, 27, 41, 24, 32,\n",
            "        20, 41, 24, 15, 38, 42,  1, 23, 19,  4,  1, 11, 33, 15, 41, 15, 30,  3,\n",
            "        10, 41, 25, 31, 32, 24,  1,  8, 32, 25, 41, 24,  3,  1,  8, 25, 40, 15,\n",
            "        33, 42,  1, 12, 34, 27, 19,  3,  1, 17, 35,  4,  9, 30, 35,  9, 24, 40,\n",
            "         4,  1, 23, 33, 28, 41, 25, 33, 15,  3,  1, 22, 27, 15, 33, 42,  1, 18,\n",
            "        25, 41, 23,  4,  1,  6, 15, 41, 23, 19,  4,  1, 20, 41, 25, 10, 15, 33,\n",
            "        20, 16,  4, 42,  1,  5, 25, 41, 16, 30, 41, 24,  1, 30, 32, 18, 19,  3,\n",
            "         1,  6, 27, 28, 41, 24,  8,  3,  2,  1,  8, 33,  3, 15, 35,  1,  5, 31,\n",
            "         3,  8, 32, 25,  3,  1, 15, 41, 24, 12, 38, 15, 41, 42,  1,  8, 32, 23,\n",
            "        38,  1, 11,  1, 30,  3, 24, 23,  4,  1, 18, 25, 41, 23, 38, 14,  1, 30,\n",
            "        31,  1, 24, 40, 12, 19, 34, 24,  4, 42,  1, 23, 40,  8, 41, 29, 32, 24,\n",
            "         1, 30, 32, 18, 19, 32,  1,  5, 19, 33, 27, 32, 25, 41, 24, 32, 42,  1,\n",
            "        30, 15, 41, 24,  3,  1, 27, 17,  2,  1,  5, 31, 33,  3, 30, 32,  1, 11,\n",
            "        25,  2,  1,  8, 41, 29, 23, 32,  1, 18, 25, 41, 15, 35, 42,  1, 23, 33,\n",
            "        15, 41, 25, 32, 14, 32,  3,  1, 30,  3, 10,  4,  1, 30, 35,  9, 17, 32,\n",
            "        24,  8,  4,  2,  1, 28, 15, 41, 25, 36, 14, 32,  3,  1, 30,  3, 10,  4,\n",
            "         1, 17, 35,  9, 17, 32, 24,  8,  4, 42,  1, 10, 35, 25, 35, 28, 33, 29,\n",
            "        41, 24, 24, 40,  4,  1, 30,  3, 21,  3, 18,  4,  1, 12, 41, 13, 32, 19,\n",
            "        30, 41, 24,  1,  6, 18, 32, 25,  4, 42,  1,  0, 27, 33, 17, 41, 24, 32,\n",
            "         1, 27, 33, 12, 41, 13, 32, 19, 24, 40,  4,  1, 30,  3, 24, 40, 12, 19,\n",
            "         3,  1, 23, 19, 30,  4,  1, 28, 32, 19, 41, 15, 41, 24, 39,  1,  7, 20,\n",
            "        24, 35,  8, 41, 15, 23, 41, 42,  1, 30,  3, 10, 34, 15,  3,  1,  8, 26,\n",
            "        32,  1, 11,  1, 31, 37, 17, 24, 28, 32, 19, 41, 15, 24, 38,  1,  7, 20,\n",
            "        24, 40, 10, 34, 42,  0,  0])\n"
          ]
        }
      ]
    },
    {
      "cell_type": "code",
      "source": [
        "n = int(0.9*len(data))\n",
        "train_data = data[:n]\n",
        "val_data = data[n:]"
      ],
      "metadata": {
        "id": "YA0RuIjiijxQ"
      },
      "execution_count": 10,
      "outputs": []
    },
    {
      "cell_type": "code",
      "source": [
        "block_size = 8\n",
        "train_data[:block_size+1]"
      ],
      "metadata": {
        "colab": {
          "base_uri": "https://localhost:8080/"
        },
        "id": "T7ama_Jciuj3",
        "outputId": "1b34bc07-77f2-4885-ac80-168ed811943b"
      },
      "execution_count": 11,
      "outputs": [
        {
          "output_type": "execute_result",
          "data": {
            "text/plain": [
              "tensor([ 6, 15, 41, 23, 32,  1, 30, 25, 41])"
            ]
          },
          "metadata": {},
          "execution_count": 11
        }
      ]
    },
    {
      "cell_type": "code",
      "source": [
        "x = train_data[:block_size]\n",
        "y = train_data[1:block_size+1]\n",
        "for t in range(block_size):\n",
        "    context = x[:t+1]\n",
        "    target = y[t]\n",
        "    print(f\"when input is {context} the target: {target}\")"
      ],
      "metadata": {
        "colab": {
          "base_uri": "https://localhost:8080/"
        },
        "id": "4_6Z6Vwqiwyl",
        "outputId": "5b8e6ba3-e821-401b-f879-df63f5c5f149"
      },
      "execution_count": 12,
      "outputs": [
        {
          "output_type": "stream",
          "name": "stdout",
          "text": [
            "when input is tensor([6]) the target: 15\n",
            "when input is tensor([ 6, 15]) the target: 41\n",
            "when input is tensor([ 6, 15, 41]) the target: 23\n",
            "when input is tensor([ 6, 15, 41, 23]) the target: 32\n",
            "when input is tensor([ 6, 15, 41, 23, 32]) the target: 1\n",
            "when input is tensor([ 6, 15, 41, 23, 32,  1]) the target: 30\n",
            "when input is tensor([ 6, 15, 41, 23, 32,  1, 30]) the target: 25\n",
            "when input is tensor([ 6, 15, 41, 23, 32,  1, 30, 25]) the target: 41\n"
          ]
        }
      ]
    },
    {
      "cell_type": "code",
      "source": [
        "torch.manual_seed(1337)\n",
        "batch_size = 4\n",
        "block_size = 8\n",
        "\n",
        "def get_batch(split):\n",
        "    data = train_data if split == 'train' else val_data\n",
        "    ix = torch.randint(len(data) - block_size, (batch_size,))\n",
        "    x = torch.stack([data[i:i+block_size] for i in ix])\n",
        "    y = torch.stack([data[i+1:i+block_size+1] for i in ix])\n",
        "    return x, y"
      ],
      "metadata": {
        "id": "8fzWmz97izax"
      },
      "execution_count": 13,
      "outputs": []
    },
    {
      "cell_type": "code",
      "source": [
        "\n",
        "xb, yb = get_batch('train')\n",
        "print('inputs:')\n",
        "print(xb.shape)\n",
        "print(xb)\n",
        "print('targets:')\n",
        "print(yb.shape)\n",
        "print(yb)"
      ],
      "metadata": {
        "colab": {
          "base_uri": "https://localhost:8080/"
        },
        "id": "zbIHaqmvi4UC",
        "outputId": "84cdc9d5-966f-4cb5-a440-727b5147dff4"
      },
      "execution_count": 14,
      "outputs": [
        {
          "output_type": "stream",
          "name": "stdout",
          "text": [
            "inputs:\n",
            "torch.Size([4, 8])\n",
            "tensor([[ 1,  5, 31, 33,  3, 30, 32,  1],\n",
            "        [42,  1,  8, 32, 23, 38,  1, 11],\n",
            "        [ 4,  2,  1, 28, 15, 41, 25, 36],\n",
            "        [30, 32,  1, 11, 25,  2,  1,  8]])\n",
            "targets:\n",
            "torch.Size([4, 8])\n",
            "tensor([[ 5, 31, 33,  3, 30, 32,  1, 11],\n",
            "        [ 1,  8, 32, 23, 38,  1, 11,  1],\n",
            "        [ 2,  1, 28, 15, 41, 25, 36, 14],\n",
            "        [32,  1, 11, 25,  2,  1,  8, 41]])\n"
          ]
        }
      ]
    },
    {
      "cell_type": "code",
      "source": [
        "for b in range(batch_size): # batch dimension\n",
        "    for t in range(block_size): # time dimension\n",
        "        context = xb[b, :t+1]\n",
        "        target = yb[b,t]\n",
        "        print(f\"when input is {context.tolist()} the target: {target}\")"
      ],
      "metadata": {
        "colab": {
          "base_uri": "https://localhost:8080/"
        },
        "id": "b8BJGxXqi6iq",
        "outputId": "bbf759f6-0c6a-46fb-8261-ac315d01a3df"
      },
      "execution_count": 15,
      "outputs": [
        {
          "output_type": "stream",
          "name": "stdout",
          "text": [
            "when input is [1] the target: 5\n",
            "when input is [1, 5] the target: 31\n",
            "when input is [1, 5, 31] the target: 33\n",
            "when input is [1, 5, 31, 33] the target: 3\n",
            "when input is [1, 5, 31, 33, 3] the target: 30\n",
            "when input is [1, 5, 31, 33, 3, 30] the target: 32\n",
            "when input is [1, 5, 31, 33, 3, 30, 32] the target: 1\n",
            "when input is [1, 5, 31, 33, 3, 30, 32, 1] the target: 11\n",
            "when input is [42] the target: 1\n",
            "when input is [42, 1] the target: 8\n",
            "when input is [42, 1, 8] the target: 32\n",
            "when input is [42, 1, 8, 32] the target: 23\n",
            "when input is [42, 1, 8, 32, 23] the target: 38\n",
            "when input is [42, 1, 8, 32, 23, 38] the target: 1\n",
            "when input is [42, 1, 8, 32, 23, 38, 1] the target: 11\n",
            "when input is [42, 1, 8, 32, 23, 38, 1, 11] the target: 1\n",
            "when input is [4] the target: 2\n",
            "when input is [4, 2] the target: 1\n",
            "when input is [4, 2, 1] the target: 28\n",
            "when input is [4, 2, 1, 28] the target: 15\n",
            "when input is [4, 2, 1, 28, 15] the target: 41\n",
            "when input is [4, 2, 1, 28, 15, 41] the target: 25\n",
            "when input is [4, 2, 1, 28, 15, 41, 25] the target: 36\n",
            "when input is [4, 2, 1, 28, 15, 41, 25, 36] the target: 14\n",
            "when input is [30] the target: 32\n",
            "when input is [30, 32] the target: 1\n",
            "when input is [30, 32, 1] the target: 11\n",
            "when input is [30, 32, 1, 11] the target: 25\n",
            "when input is [30, 32, 1, 11, 25] the target: 2\n",
            "when input is [30, 32, 1, 11, 25, 2] the target: 1\n",
            "when input is [30, 32, 1, 11, 25, 2, 1] the target: 8\n",
            "when input is [30, 32, 1, 11, 25, 2, 1, 8] the target: 41\n"
          ]
        }
      ]
    },
    {
      "cell_type": "code",
      "source": [
        "print(xb)"
      ],
      "metadata": {
        "colab": {
          "base_uri": "https://localhost:8080/"
        },
        "id": "vX8JQgQKi25I",
        "outputId": "c90a73e1-8e69-4ff7-a634-81f2b7333693"
      },
      "execution_count": 16,
      "outputs": [
        {
          "output_type": "stream",
          "name": "stdout",
          "text": [
            "tensor([[ 1,  5, 31, 33,  3, 30, 32,  1],\n",
            "        [42,  1,  8, 32, 23, 38,  1, 11],\n",
            "        [ 4,  2,  1, 28, 15, 41, 25, 36],\n",
            "        [30, 32,  1, 11, 25,  2,  1,  8]])\n"
          ]
        }
      ]
    },
    {
      "cell_type": "code",
      "source": [
        "import torch\n",
        "import torch.nn as nn\n",
        "from torch.nn import functional as F\n",
        "torch.manual_seed(1337)"
      ],
      "metadata": {
        "colab": {
          "base_uri": "https://localhost:8080/"
        },
        "id": "pYuH6hcljD-R",
        "outputId": "77553736-4cf9-4157-acd9-c352d720c0e6"
      },
      "execution_count": 17,
      "outputs": [
        {
          "output_type": "execute_result",
          "data": {
            "text/plain": [
              "<torch._C.Generator at 0x7860f80850f0>"
            ]
          },
          "metadata": {},
          "execution_count": 17
        }
      ]
    }
  ]
}